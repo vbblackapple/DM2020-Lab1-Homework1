{
 "cells": [
  {
   "cell_type": "code",
   "execution_count": 1,
   "metadata": {},
   "outputs": [],
   "source": [
    "import pandas as pd\n",
    "import numpy as np\n",
    "import random\n",
    "from sklearn import preprocessing, metrics, decomposition, pipeline, dummy\n",
    "import helpers.data_mining_helpers as dmh\n",
    "files = [\"amazon_cells_labelled.txt\", \"imdb_labelled.txt\", \"yelp_labelled.txt\"]\n",
    "categories_name = [\"amazon\",\"imdb\",\"yelp\"]\n",
    "data = []\n",
    "\n",
    "#clean datas and make them to lists(text,label)\n",
    "for i in range(3):\n",
    "    with open(\"sentiment labelled sentences/\"+files[i]) as the_file:\n",
    "        while True:\n",
    "            line = the_file.readline()\n",
    "            if not line: break\n",
    "            line = line.strip(\"\\n\")\n",
    "            label = int(line[-1])\n",
    "            text = line.rstrip(\"\\t 0\").rstrip(\"\\t 1\")\n",
    "            data.append([text,categories_name[i],label])\n",
    "random.shuffle(data)\n",
    "\n",
    "# construct dataframe from a list\n",
    "X = pd.DataFrame(np.array(data), columns= [\"text\",\"category_name\",\"label\"])\n",
    "X['category'] = X.category_name.apply(lambda t: categories_name.index(t))\n",
    "X['unigrams'] = X['text'].apply(lambda x: dmh.tokenize_text(x))\n",
    "mlb = preprocessing.LabelBinarizer()\n",
    "mlb.fit(X.category_name)\n",
    "X['bin_category'] = mlb.transform(X['category_name']).tolist()"
   ]
  },
  {
   "cell_type": "code",
   "execution_count": 2,
   "metadata": {},
   "outputs": [
    {
     "data": {
      "text/html": [
       "<div>\n",
       "<style scoped>\n",
       "    .dataframe tbody tr th:only-of-type {\n",
       "        vertical-align: middle;\n",
       "    }\n",
       "\n",
       "    .dataframe tbody tr th {\n",
       "        vertical-align: top;\n",
       "    }\n",
       "\n",
       "    .dataframe thead th {\n",
       "        text-align: right;\n",
       "    }\n",
       "</style>\n",
       "<table border=\"1\" class=\"dataframe\">\n",
       "  <thead>\n",
       "    <tr style=\"text-align: right;\">\n",
       "      <th></th>\n",
       "      <th>text</th>\n",
       "      <th>category_name</th>\n",
       "      <th>label</th>\n",
       "      <th>category</th>\n",
       "      <th>unigrams</th>\n",
       "      <th>bin_category</th>\n",
       "    </tr>\n",
       "  </thead>\n",
       "  <tbody>\n",
       "    <tr>\n",
       "      <th>0</th>\n",
       "      <td>This is not movie-making.</td>\n",
       "      <td>imdb</td>\n",
       "      <td>0</td>\n",
       "      <td>1</td>\n",
       "      <td>[This, is, not, movie-making, .]</td>\n",
       "      <td>[0, 1, 0]</td>\n",
       "    </tr>\n",
       "    <tr>\n",
       "      <th>1</th>\n",
       "      <td>Worst service to boot, but that is the least o...</td>\n",
       "      <td>yelp</td>\n",
       "      <td>0</td>\n",
       "      <td>2</td>\n",
       "      <td>[Worst, service, to, boot, ,, but, that, is, t...</td>\n",
       "      <td>[0, 0, 1]</td>\n",
       "    </tr>\n",
       "    <tr>\n",
       "      <th>2</th>\n",
       "      <td>I like the fact that it rests lightly against ...</td>\n",
       "      <td>amazon</td>\n",
       "      <td>1</td>\n",
       "      <td>0</td>\n",
       "      <td>[I, like, the, fact, that, it, rests, lightly,...</td>\n",
       "      <td>[1, 0, 0]</td>\n",
       "    </tr>\n",
       "    <tr>\n",
       "      <th>3</th>\n",
       "      <td>Anne Heche was utterly convincing.</td>\n",
       "      <td>imdb</td>\n",
       "      <td>1</td>\n",
       "      <td>1</td>\n",
       "      <td>[Anne, Heche, was, utterly, convincing, .]</td>\n",
       "      <td>[0, 1, 0]</td>\n",
       "    </tr>\n",
       "    <tr>\n",
       "      <th>4</th>\n",
       "      <td>And, FINALLY, after all that, we get to an end...</td>\n",
       "      <td>imdb</td>\n",
       "      <td>0</td>\n",
       "      <td>1</td>\n",
       "      <td>[And, ,, FINALLY, ,, after, all, that, ,, we, ...</td>\n",
       "      <td>[0, 1, 0]</td>\n",
       "    </tr>\n",
       "    <tr>\n",
       "      <th>...</th>\n",
       "      <td>...</td>\n",
       "      <td>...</td>\n",
       "      <td>...</td>\n",
       "      <td>...</td>\n",
       "      <td>...</td>\n",
       "      <td>...</td>\n",
       "    </tr>\n",
       "    <tr>\n",
       "      <th>2995</th>\n",
       "      <td>Gotta love those close-ups of slimy, drooling ...</td>\n",
       "      <td>imdb</td>\n",
       "      <td>1</td>\n",
       "      <td>1</td>\n",
       "      <td>[Got, ta, love, those, close-ups, of, slimy, ,...</td>\n",
       "      <td>[0, 1, 0]</td>\n",
       "    </tr>\n",
       "    <tr>\n",
       "      <th>2996</th>\n",
       "      <td>Would recommend this item.</td>\n",
       "      <td>amazon</td>\n",
       "      <td>1</td>\n",
       "      <td>0</td>\n",
       "      <td>[Would, recommend, this, item, .]</td>\n",
       "      <td>[1, 0, 0]</td>\n",
       "    </tr>\n",
       "    <tr>\n",
       "      <th>2997</th>\n",
       "      <td>The update procedure is difficult and cumbersome.</td>\n",
       "      <td>amazon</td>\n",
       "      <td>0</td>\n",
       "      <td>0</td>\n",
       "      <td>[The, update, procedure, is, difficult, and, c...</td>\n",
       "      <td>[1, 0, 0]</td>\n",
       "    </tr>\n",
       "    <tr>\n",
       "      <th>2998</th>\n",
       "      <td>This is a really fantastic Thai restaurant whi...</td>\n",
       "      <td>yelp</td>\n",
       "      <td>1</td>\n",
       "      <td>2</td>\n",
       "      <td>[This, is, a, really, fantastic, Thai, restaur...</td>\n",
       "      <td>[0, 0, 1]</td>\n",
       "    </tr>\n",
       "    <tr>\n",
       "      <th>2999</th>\n",
       "      <td>Feelings, thoughts...Gabriel's discomfort duri...</td>\n",
       "      <td>imdb</td>\n",
       "      <td>1</td>\n",
       "      <td>1</td>\n",
       "      <td>[Feelings, ,, thoughts, ..., Gabriel, 's, disc...</td>\n",
       "      <td>[0, 1, 0]</td>\n",
       "    </tr>\n",
       "  </tbody>\n",
       "</table>\n",
       "<p>3000 rows × 6 columns</p>\n",
       "</div>"
      ],
      "text/plain": [
       "                                                   text category_name label  \\\n",
       "0                             This is not movie-making.          imdb     0   \n",
       "1     Worst service to boot, but that is the least o...          yelp     0   \n",
       "2     I like the fact that it rests lightly against ...        amazon     1   \n",
       "3                    Anne Heche was utterly convincing.          imdb     1   \n",
       "4     And, FINALLY, after all that, we get to an end...          imdb     0   \n",
       "...                                                 ...           ...   ...   \n",
       "2995  Gotta love those close-ups of slimy, drooling ...          imdb     1   \n",
       "2996                         Would recommend this item.        amazon     1   \n",
       "2997  The update procedure is difficult and cumbersome.        amazon     0   \n",
       "2998  This is a really fantastic Thai restaurant whi...          yelp     1   \n",
       "2999  Feelings, thoughts...Gabriel's discomfort duri...          imdb     1   \n",
       "\n",
       "      category                                           unigrams bin_category  \n",
       "0            1                   [This, is, not, movie-making, .]    [0, 1, 0]  \n",
       "1            2  [Worst, service, to, boot, ,, but, that, is, t...    [0, 0, 1]  \n",
       "2            0  [I, like, the, fact, that, it, rests, lightly,...    [1, 0, 0]  \n",
       "3            1         [Anne, Heche, was, utterly, convincing, .]    [0, 1, 0]  \n",
       "4            1  [And, ,, FINALLY, ,, after, all, that, ,, we, ...    [0, 1, 0]  \n",
       "...        ...                                                ...          ...  \n",
       "2995         1  [Got, ta, love, those, close-ups, of, slimy, ,...    [0, 1, 0]  \n",
       "2996         0                  [Would, recommend, this, item, .]    [1, 0, 0]  \n",
       "2997         0  [The, update, procedure, is, difficult, and, c...    [1, 0, 0]  \n",
       "2998         2  [This, is, a, really, fantastic, Thai, restaur...    [0, 0, 1]  \n",
       "2999         1  [Feelings, ,, thoughts, ..., Gabriel, 's, disc...    [0, 1, 0]  \n",
       "\n",
       "[3000 rows x 6 columns]"
      ]
     },
     "execution_count": 2,
     "metadata": {},
     "output_type": "execute_result"
    }
   ],
   "source": [
    "X"
   ]
  },
  {
   "cell_type": "markdown",
   "metadata": {},
   "source": [
    "## new data visualizations"
   ]
  },
  {
   "cell_type": "code",
   "execution_count": 3,
   "metadata": {},
   "outputs": [],
   "source": [
    "from collections import Counter\n",
    "negative_word = [\"no\",\"not\",\"n't\",\"bad\",\"worse\"]\n",
    "negative_num = []\n",
    "\n",
    "#count the negative word all documents have and append it to X as a column\n",
    "for i in range(len(X)):\n",
    "    lower_unigram = [x.lower() for x in X.loc[i,\"unigrams\"]]\n",
    "    count = 0\n",
    "    counter = dict(Counter(word for word in lower_unigram))\n",
    "    for neg in negative_word:\n",
    "        if neg in lower_unigram: \n",
    "            count += counter[neg]\n",
    "    negative_num.append(count)\n",
    "X['negative_num'] = negative_num"
   ]
  },
  {
   "cell_type": "code",
   "execution_count": 4,
   "metadata": {},
   "outputs": [
    {
     "data": {
      "image/png": "[encoded data removed]",
      "text/plain": [
       "<Figure size 576x576 with 1 Axes>"
      ]
     },
     "metadata": {
      "needs_background": "light"
     },
     "output_type": "display_data"
    }
   ],
   "source": [
    "import matplotlib.pyplot as plt\n",
    "%matplotlib inline\n",
    "\n",
    "labels = ['0','1']\n",
    "col = ['coral', 'blue']\n",
    "index = [0,1]\n",
    "base_angle = 30\n",
    "negative_num = np.array(negative_num)\n",
    "\n",
    "fig = plt.figure(figsize = (8,8))\n",
    "\n",
    "#draw a scatter picture\n",
    "ax = fig.subplots()\n",
    "for c, label in zip(col, labels):\n",
    "    ys = negative_num[X['label'] == label]\n",
    "    counter = dict(Counter(num for num in list(ys)))\n",
    "    all_num = sum(counter.values())\n",
    "    s = []\n",
    "    ys = []\n",
    "    \n",
    "    # calculate the sie of s\n",
    "    for key in counter.keys():\n",
    "        if key == 0: continue\n",
    "        s.append(float(counter[key]))  \n",
    "        ys.append(key)\n",
    "    s = np.array(s)\n",
    "    s*=5\n",
    "    label_x = np.array([index[int(label)] for i in range(len(s))])\n",
    "    ax.scatter(label_x, ys, c = c, s = s, marker='o')\n",
    "ax.set_ylabel('times')\n",
    "ax.set_xlabel('label')\n",
    "plt.xticks(index, ['negative','positive'])\n",
    "    \n",
    "\n",
    "plt.show()"
   ]
  },
  {
   "cell_type": "markdown",
   "metadata": {},
   "source": [
    "Y label(times) means the times of negative words(EX: no,not,n't,bad,worse), and the size of circles means the number of the text. For example (negative,1) is largest, so there're most text labeld negative with one negative word."
   ]
  },
  {
   "cell_type": "markdown",
   "metadata": {},
   "source": [
    "The figure shows: There're more negative words in the texts labeld negative, because in the same times, almost all circles (excpet for times five) of negative are bigger than those of positive."
   ]
  },
  {
   "cell_type": "markdown",
   "metadata": {},
   "source": [
    "## TF-IDF features"
   ]
  },
  {
   "cell_type": "code",
   "execution_count": 5,
   "metadata": {},
   "outputs": [
    {
     "name": "stdout",
     "output_type": "stream",
     "text": [
      "(3000, 5155)\n"
     ]
    }
   ],
   "source": [
    "from sklearn.feature_extraction.text import TfidfVectorizer\n",
    "vectorizer = TfidfVectorizer()\n",
    "tfidf = vectorizer.fit_transform(X.loc[:,'text'])\n",
    "print(tfidf.shape)"
   ]
  },
  {
   "cell_type": "markdown",
   "metadata": {},
   "source": [
    "## Naive Bayes classifier"
   ]
  },
  {
   "cell_type": "code",
   "execution_count": 6,
   "metadata": {},
   "outputs": [],
   "source": [
    "## preprocess\n",
    "from sklearn.naive_bayes import MultinomialNB\n",
    "from sklearn.model_selection import train_test_split\n",
    "from sklearn.feature_extraction.text import CountVectorizer\n",
    "\n",
    "count_vect = CountVectorizer()\n",
    "X_counts = count_vect.fit_transform(X.text)\n",
    "\n",
    "X_train, X_test, Y_train, Y_test = train_test_split(np.append(tfidf.toarray(), X_counts.toarray(), 1), X['label'], test_size=0.25)"
   ]
  },
  {
   "cell_type": "code",
   "execution_count": 7,
   "metadata": {},
   "outputs": [
    {
     "data": {
      "text/plain": [
       "0.8386666666666667"
      ]
     },
     "execution_count": 7,
     "metadata": {},
     "output_type": "execute_result"
    }
   ],
   "source": [
    "## tfidf\n",
    "clf = MultinomialNB()\n",
    "clf.fit(X_train[:,:tfidf.shape[1]], Y_train)\n",
    "clf.score(X_test[:,:tfidf.shape[1]], Y_test)"
   ]
  },
  {
   "cell_type": "code",
   "execution_count": 8,
   "metadata": {},
   "outputs": [
    {
     "data": {
      "text/plain": [
       "0.8426666666666667"
      ]
     },
     "execution_count": 8,
     "metadata": {},
     "output_type": "execute_result"
    }
   ],
   "source": [
    "## word frequency\n",
    "clf = MultinomialNB()\n",
    "clf.fit(X_train[:,tfidf.shape[1]:], Y_train)\n",
    "clf.score(X_test[:,tfidf.shape[1]:], Y_test)"
   ]
  },
  {
   "cell_type": "markdown",
   "metadata": {},
   "source": [
    "Becasue the datas are split randomly, and it will influence the result. Hence, I ran the code ten times for both tfidf and word frequency. In the end, I averaged the results ten times, and found word frequency is a little better than tfidf."
   ]
  }
 ],
 "metadata": {
  "kernelspec": {
   "display_name": "Python 3",
   "language": "python",
   "name": "python3"
  },
  "language_info": {
   "codemirror_mode": {
    "name": "ipython",
    "version": 3
   },
   "file_extension": ".py",
   "mimetype": "text/x-python",
   "name": "python",
   "nbconvert_exporter": "python",
   "pygments_lexer": "ipython3",
   "version": "3.7.6"
  }
 },
 "nbformat": 4,
 "nbformat_minor": 4
}
